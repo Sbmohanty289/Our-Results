{
 "cells": [
  {
   "cell_type": "code",
   "execution_count": 87,
   "id": "8f605915",
   "metadata": {},
   "outputs": [],
   "source": [
    "import pandas as pd\n",
    "from sklearn.linear_model import LinearRegression"
   ]
  },
  {
   "cell_type": "code",
   "execution_count": 88,
   "id": "6fd56095",
   "metadata": {},
   "outputs": [],
   "source": [
    "# Create the dataset\n",
    "data = {'S.N': [1,2,3,4],\n",
    "    'Student Name': [\"SATYABRATA\",\"SANDEEP\",\"TRILOCHAN\",\"GATI\"],\n",
    "    'Subject 1': [85, 75, 90, 80],\n",
    "    'Subject 2': [70, 80, 85, 75],\n",
    "    'Subject 3': [90, 95, 80, 85],\n",
    "}"
   ]
  },
  {
   "cell_type": "code",
   "execution_count": 89,
   "id": "03ca28a8",
   "metadata": {},
   "outputs": [],
   "source": [
    "df = pd.DataFrame(data)"
   ]
  },
  {
   "cell_type": "code",
   "execution_count": 90,
   "id": "38a7bfa9",
   "metadata": {},
   "outputs": [
    {
     "data": {
      "text/html": [
       "<div>\n",
       "<style scoped>\n",
       "    .dataframe tbody tr th:only-of-type {\n",
       "        vertical-align: middle;\n",
       "    }\n",
       "\n",
       "    .dataframe tbody tr th {\n",
       "        vertical-align: top;\n",
       "    }\n",
       "\n",
       "    .dataframe thead th {\n",
       "        text-align: right;\n",
       "    }\n",
       "</style>\n",
       "<table border=\"1\" class=\"dataframe\">\n",
       "  <thead>\n",
       "    <tr style=\"text-align: right;\">\n",
       "      <th></th>\n",
       "      <th>S.N</th>\n",
       "      <th>Student Name</th>\n",
       "      <th>Subject 1</th>\n",
       "      <th>Subject 2</th>\n",
       "      <th>Subject 3</th>\n",
       "    </tr>\n",
       "  </thead>\n",
       "  <tbody>\n",
       "    <tr>\n",
       "      <th>0</th>\n",
       "      <td>1</td>\n",
       "      <td>SATYABRATA</td>\n",
       "      <td>85</td>\n",
       "      <td>70</td>\n",
       "      <td>90</td>\n",
       "    </tr>\n",
       "    <tr>\n",
       "      <th>1</th>\n",
       "      <td>2</td>\n",
       "      <td>SANDEEP</td>\n",
       "      <td>75</td>\n",
       "      <td>80</td>\n",
       "      <td>95</td>\n",
       "    </tr>\n",
       "    <tr>\n",
       "      <th>2</th>\n",
       "      <td>3</td>\n",
       "      <td>TRILOCHAN</td>\n",
       "      <td>90</td>\n",
       "      <td>85</td>\n",
       "      <td>80</td>\n",
       "    </tr>\n",
       "    <tr>\n",
       "      <th>3</th>\n",
       "      <td>4</td>\n",
       "      <td>GATI</td>\n",
       "      <td>80</td>\n",
       "      <td>75</td>\n",
       "      <td>85</td>\n",
       "    </tr>\n",
       "  </tbody>\n",
       "</table>\n",
       "</div>"
      ],
      "text/plain": [
       "   S.N Student Name  Subject 1  Subject 2  Subject 3\n",
       "0    1   SATYABRATA         85         70         90\n",
       "1    2      SANDEEP         75         80         95\n",
       "2    3    TRILOCHAN         90         85         80\n",
       "3    4         GATI         80         75         85"
      ]
     },
     "execution_count": 90,
     "metadata": {},
     "output_type": "execute_result"
    }
   ],
   "source": [
    "df"
   ]
  },
  {
   "cell_type": "code",
   "execution_count": 91,
   "id": "5ec5157e",
   "metadata": {},
   "outputs": [],
   "source": [
    "# Split the dataset into features (X) and target variable (y)\n",
    "X = df[['Subject 1', 'Subject 2']]\n",
    "y = df['Subject 3']"
   ]
  },
  {
   "cell_type": "code",
   "execution_count": 92,
   "id": "6bcc87df",
   "metadata": {},
   "outputs": [
    {
     "data": {
      "text/plain": [
       "LinearRegression()"
      ]
     },
     "execution_count": 92,
     "metadata": {},
     "output_type": "execute_result"
    }
   ],
   "source": [
    "# Create and fit the linear regression model\n",
    "model = LinearRegression()\n",
    "model.fit(X, y)"
   ]
  },
  {
   "cell_type": "code",
   "execution_count": 93,
   "id": "7bfd9228",
   "metadata": {},
   "outputs": [],
   "source": [
    "# Predict the subject 3 mark for Trisul\n",
    "Trisul_subject1 = 82\n",
    "Trisul_subject2 = 78"
   ]
  },
  {
   "cell_type": "code",
   "execution_count": 94,
   "id": "fbd15bc2",
   "metadata": {},
   "outputs": [],
   "source": [
    "prediction = model.predict([[Trisul_subject1, Trisul_subject2]])"
   ]
  },
  {
   "cell_type": "code",
   "execution_count": 96,
   "id": "d42bd7dc",
   "metadata": {},
   "outputs": [
    {
     "name": "stdout",
     "output_type": "stream",
     "text": [
      "Predicted Subject 3 Mark for Trisul: 87.75000000000001\n"
     ]
    }
   ],
   "source": [
    "print(\"Predicted Subject 3 Mark for Trisul:\", prediction[0])"
   ]
  },
  {
   "cell_type": "code",
   "execution_count": null,
   "id": "399e268d",
   "metadata": {},
   "outputs": [],
   "source": []
  },
  {
   "cell_type": "code",
   "execution_count": null,
   "id": "a42bec0d",
   "metadata": {},
   "outputs": [],
   "source": []
  }
 ],
 "metadata": {
  "kernelspec": {
   "display_name": "Python 3 (ipykernel)",
   "language": "python",
   "name": "python3"
  },
  "language_info": {
   "codemirror_mode": {
    "name": "ipython",
    "version": 3
   },
   "file_extension": ".py",
   "mimetype": "text/x-python",
   "name": "python",
   "nbconvert_exporter": "python",
   "pygments_lexer": "ipython3",
   "version": "3.9.7"
  }
 },
 "nbformat": 4,
 "nbformat_minor": 5
}
